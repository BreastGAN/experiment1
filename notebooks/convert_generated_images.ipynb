{
 "cells": [
  {
   "cell_type": "code",
   "execution_count": null,
   "metadata": {},
   "outputs": [],
   "source": [
    "import os\n",
    "wd = os.getcwd()\n",
    "if wd.endswith('notebooks'):\n",
    "    print('Current directory:', wd)\n",
    "    os.chdir('..')\n",
    "    print('New directory:', os.getcwd())"
   ]
  },
  {
   "cell_type": "code",
   "execution_count": null,
   "metadata": {},
   "outputs": [],
   "source": [
    "import numpy as np\n",
    "import os\n",
    "import matplotlib.pyplot as plt\n",
    "from PIL import Image\n",
    "from resources.image_utils import normalize"
   ]
  },
  {
   "cell_type": "code",
   "execution_count": null,
   "metadata": {},
   "outputs": [],
   "source": [
    "def add_dataset(dataset_f, subset):\n",
    "    index = 0\n",
    "    for f in os.listdir(os.path.join(dataset_f, subset)):\n",
    "        fname = os.path.join(dataset_f, subset, f)\n",
    "        if not fname.endswith('.dat'):\n",
    "            continue\n",
    "        data = np.fromfile(fname)\n",
    "        data = np.reshape(data, (256, 256))\n",
    "        data = normalize(data)\n",
    "        im = Image.fromarray(data)\n",
    "        if im.mode != 'RGB':\n",
    "            im = im.convert('RGB')\n",
    "        im.save(os.path.join(folder, '{:04}_{}_{}.png'.format(index, int('healthy' == subset), subset)))\n",
    "        index += 1\n",
    "\n",
    "\n",
    "path = '/home/oskopek/tmp/out_2_end'\n",
    "folder = os.path.join(path, 'out')\n",
    "if not os.path.exists(folder):\n",
    "    os.makedirs(folder)\n",
    "\n",
    "dataset_f = '/home/oskopek/git/mammography/data_in/small_all_256x256_test'\n",
    "\n",
    "add_dataset(dataset_f, 'healthy')\n",
    "add_dataset(dataset_f, 'cancer')\n",
    "\n",
    "for f in os.listdir(path):\n",
    "    fname = os.path.join(path, f)\n",
    "    if not fname.endswith('.dat'):\n",
    "        continue\n",
    "    prefix = fname[:-4]\n",
    "    prefix = os.path.basename(prefix)\n",
    "    print(prefix, int(prefix in ['cancer_gen', 'healthy_cycle']))\n",
    "    data = np.fromfile(fname)\n",
    "    data = np.reshape(data, (-1, 256, 256, 1))\n",
    "    for i in range(data.shape[0]):\n",
    "        img = data[i]\n",
    "        img = np.reshape(img, (256, 256))\n",
    "        img = normalize(img)\n",
    "\n",
    "        im = Image.fromarray(img)\n",
    "        if im.mode != 'RGB':\n",
    "            im = im.convert('RGB')\n",
    "        im.save(\n",
    "            os.path.join(folder, '{:04}_{}_{}.png'.format(i, int(prefix in ['cancer_gen', 'healthy_cycle']), prefix)))\n"
   ]
  },
  {
   "cell_type": "code",
   "execution_count": null,
   "metadata": {},
   "outputs": [],
   "source": []
  }
 ],
 "metadata": {
  "kernelspec": {
   "display_name": "Python 3",
   "language": "python",
   "name": "python3"
  }
 },
 "nbformat": 4,
 "nbformat_minor": 0
}
