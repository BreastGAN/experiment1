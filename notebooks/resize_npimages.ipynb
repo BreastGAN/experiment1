{
 "cells": [
  {
   "cell_type": "code",
   "execution_count": null,
   "metadata": {},
   "outputs": [],
   "source": [
    "import numpy as np\n",
    "import skimage.transform\n",
    "import matplotlib.pyplot as plt"
   ]
  },
  {
   "cell_type": "code",
   "execution_count": null,
   "metadata": {},
   "outputs": [],
   "source": [
    "# noqa%cd .."
   ]
  },
  {
   "cell_type": "code",
   "execution_count": null,
   "metadata": {},
   "outputs": [],
   "source": [
    "def resize(xs, h, w):\n",
    "    resized = np.zeros((xs.shape[0], h, w))\n",
    "    counter = 0\n",
    "    for i in range(xs.shape[0]):\n",
    "        if np.sum(xs[i]) > 0:\n",
    "            counter += 1\n",
    "    resized = np.zeros((counter, h, w))\n",
    "    c = 0\n",
    "    for i in range(xs.shape[0]):\n",
    "        if np.sum(xs[i]) > 0:\n",
    "            resized[c, :, :] = skimage.transform.resize(xs[i, :, :], (h, w))\n",
    "            #resized[c, :, :] = np.copy(xs[i, :, :])\n",
    "            c += 1\n",
    "    return resized\n",
    "\n",
    "\n",
    "h = 256\n",
    "w = 256\n",
    "images = np.load('data_in/images_512x408.npz')\n",
    "healthy = images['healthy']\n",
    "print(healthy.shape)\n",
    "cancer = images['cancer']\n",
    "healthy = resize(healthy, h, w)\n",
    "print(healthy.shape)\n",
    "cancer = resize(cancer, h, w)\n",
    "np.savez('data_in/images_256x256.npz', healthy=healthy, cancer=cancer)\n"
   ]
  },
  {
   "cell_type": "code",
   "execution_count": null,
   "metadata": {},
   "outputs": [],
   "source": [
    "def show_img(img):\n",
    "    f = plt.figure(figsize=(16, 8))\n",
    "    ax = f.add_subplot(1, 2, 1)\n",
    "    ax2 = f.add_subplot(1, 2, 2)\n",
    "    ax.imshow(img)\n",
    "    ax2.hist(np.ravel(img))\n",
    "    plt.show()\n",
    "\n",
    "\n",
    "counter = 0\n",
    "for i in range(len(healthy)):\n",
    "    if np.sum(healthy[i]) <= 0:\n",
    "        counter += 1\n",
    "print(counter / len(healthy))\n"
   ]
  },
  {
   "cell_type": "code",
   "execution_count": null,
   "metadata": {},
   "outputs": [],
   "source": [
    "np.sum(healthy[1])"
   ]
  },
  {
   "cell_type": "code",
   "execution_count": null,
   "metadata": {},
   "outputs": [],
   "source": []
  }
 ],
 "metadata": {
  "kernelspec": {
   "display_name": "Python 3",
   "language": "python",
   "name": "python3"
  }
 },
 "nbformat": 4,
 "nbformat_minor": 0
}
