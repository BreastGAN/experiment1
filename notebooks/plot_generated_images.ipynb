{
 "cells": [
  {
   "cell_type": "code",
   "execution_count": null,
   "metadata": {},
   "outputs": [],
   "source": [
    "# noqa\n",
    "import os\n",
    "COLAB = 'DATALAB_DEBUG' in os.environ\n",
    "\n",
    "if COLAB:\n",
    "    !apt-get update\n",
    "    !apt-get install git\n",
    "    !git clone https://gist.github.com/oskopek/e27ca34cb2b813cae614520e8374e741 bstrap\n",
    "    import bstrap.bootstrap as bootstrap\n",
    "else:\n",
    "    wd = %%pwd\n",
    "    if wd.endswith('notebooks'):\n",
    "        print('Current directory:', wd)\n",
    "        %cd ..\n",
    "        %pwd\n",
    "    import resources.our_colab_utils.bootstrap as bootstrap\n",
    "\n",
    "bootstrap.bootstrap(branch='master', packages='dotmap==1.2.20 keras==2.1.4 pydicom==1.0.2 Pillow==5.0.0')\n",
    "\n",
    "if COLAB:\n",
    "    !rm -rf bstrap"
   ]
  },
  {
   "cell_type": "code",
   "execution_count": null,
   "metadata": {},
   "outputs": [],
   "source": [
    "# noqa\n",
    "import csv\n",
    "import os\n",
    "from dotmap import DotMap\n",
    "\n",
    "import matplotlib\n",
    "import matplotlib.pyplot as plt\n",
    "import numpy as np\n",
    "from PIL import Image\n",
    "import pydicom\n",
    "import skimage.transform\n",
    "\n",
    "import resources.data.loader as loader\n",
    "import resources.image_utils as imutils\n",
    "import resources.synthetic_data as synth_data\n",
    "\n",
    "%load_ext autoreload\n",
    "%autoreload 2\n",
    "%matplotlib inline\n",
    "matplotlib.rcParams['figure.figsize'] = (10, 10)\n",
    "plt.rcParams['image.cmap'] = 'gray' # 'viridis', 'gray'"
   ]
  },
  {
   "cell_type": "code",
   "execution_count": null,
   "metadata": {},
   "outputs": [],
   "source": [
    "breast_prefix = os.path.abspath('/home/oskopek/local/Breasts')\n",
    "loader.init(breast_prefix)"
   ]
  },
  {
   "cell_type": "code",
   "execution_count": null,
   "metadata": {},
   "outputs": [],
   "source": [
    "def convert(img, img_meta):\n",
    "    img = imutils.standardize(img, img_meta)\n",
    "    img = imutils.downsample(img)\n",
    "\n",
    "    img_norm = imutils.normalize_gaussian(img)\n",
    "    return img, img_norm\n",
    "\n",
    "\n",
    "def show_img(img):\n",
    "    f = plt.figure(figsize=(16, 8))\n",
    "    ax = f.add_subplot(1, 2, 1)\n",
    "    ax2 = f.add_subplot(1, 2, 2)\n",
    "    ax.imshow(img)\n",
    "    ax2.hist(np.ravel(img))\n",
    "    plt.show()"
   ]
  },
  {
   "cell_type": "code",
   "execution_count": null,
   "metadata": {},
   "outputs": [],
   "source": [
    "transformed = os.path.join(breast_prefix, \"small_all_256x256\")\n",
    "cancer_folder = os.path.join(transformed, \"cancer\")\n",
    "healthy_folder = os.path.join(transformed, \"healthy\")\n",
    "\n",
    "import numpy as np\n",
    "import matplotlib.pyplot as plt\n",
    "last = None\n",
    "for i in range(10):\n",
    "    print(i)\n",
    "    a = np.fromfile(os.path.join(healthy_folder, '{:02}_002.dat'.format(i)))\n",
    "    a = np.reshape(a, (256, 256))\n",
    "    if last is not None:\n",
    "        #         show_img(a-last)\n",
    "        show_img(a)\n",
    "    last = a\n"
   ]
  },
  {
   "cell_type": "code",
   "execution_count": null,
   "metadata": {},
   "outputs": [],
   "source": []
  }
 ],
 "metadata": {
  "kernelspec": {
   "display_name": "Python 3",
   "language": "python",
   "name": "python3"
  }
 },
 "nbformat": 4,
 "nbformat_minor": 0
}
