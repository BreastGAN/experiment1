{
 "cells": [
  {
   "cell_type": "markdown",
   "metadata": {},
   "source": [
    "# Image loading and generation notebook"
   ]
  },
  {
   "cell_type": "markdown",
   "metadata": {},
   "source": [
    "## Notebook setup"
   ]
  },
  {
   "cell_type": "code",
   "execution_count": null,
   "metadata": {},
   "outputs": [],
   "source": [
    "# noqa\n",
    "import os\n",
    "COLAB = 'DATALAB_DEBUG' in os.environ\n",
    "\n",
    "if COLAB:\n",
    "    !apt-get update\n",
    "    !apt-get install git\n",
    "    !git clone https://gist.github.com/oskopek/e27ca34cb2b813cae614520e8374e741 bstrap\n",
    "    import bstrap.bootstrap as bootstrap\n",
    "else:\n",
    "    wd = %%pwd\n",
    "    if wd.endswith('notebooks'):\n",
    "        print('Current directory:', wd)\n",
    "        %cd ..\n",
    "        %pwd\n",
    "    import resources.our_colab_utils.bootstrap as bootstrap\n",
    "\n",
    "bootstrap.bootstrap(branch='master', packages='dotmap==1.2.20 keras==2.1.4 pydicom==1.0.2 Pillow==5.0.0')\n",
    "\n",
    "if COLAB:\n",
    "    !rm -rf bstrap"
   ]
  },
  {
   "cell_type": "markdown",
   "metadata": {},
   "source": [
    "## Actual notebook"
   ]
  },
  {
   "cell_type": "code",
   "execution_count": null,
   "metadata": {},
   "outputs": [],
   "source": [
    "# noqa\n",
    "import csv\n",
    "import os\n",
    "from dotmap import DotMap\n",
    "\n",
    "import matplotlib\n",
    "import matplotlib.pyplot as plt\n",
    "import numpy as np\n",
    "from PIL import Image\n",
    "import pydicom\n",
    "import skimage.transform\n",
    "\n",
    "import resources.data.loader as loader\n",
    "import resources.image_utils as imutils\n",
    "import resources.synthetic_data as synth_data\n",
    "\n",
    "%load_ext autoreload\n",
    "%autoreload 2\n",
    "%matplotlib inline\n",
    "matplotlib.rcParams['figure.figsize'] = (10, 10)\n",
    "plt.rcParams['image.cmap'] = 'gray' # 'viridis', 'gray'"
   ]
  },
  {
   "cell_type": "markdown",
   "metadata": {},
   "source": [
    "## Data setup"
   ]
  },
  {
   "cell_type": "code",
   "execution_count": null,
   "metadata": {},
   "outputs": [],
   "source": [
    "breast_prefix = os.path.abspath('/home/oskopek/local/Breasts')\n",
    "loader.init(breast_prefix)"
   ]
  },
  {
   "cell_type": "markdown",
   "metadata": {},
   "source": [
    "## Define custom conversion and plotting"
   ]
  },
  {
   "cell_type": "code",
   "execution_count": null,
   "metadata": {},
   "outputs": [],
   "source": [
    "def convert(img, img_meta):\n",
    "    img = imutils.standardize(img, img_meta)\n",
    "    img = imutils.downsample(img)\n",
    "\n",
    "    img_norm = imutils.normalize_gaussian(img)\n",
    "    return img, img_norm\n",
    "\n",
    "\n",
    "def show_img(img):\n",
    "    f = plt.figure(figsize=(16, 8))\n",
    "    ax = f.add_subplot(1, 2, 1)\n",
    "    ax2 = f.add_subplot(1, 2, 2)\n",
    "    ax.imshow(img)\n",
    "    ax2.hist(np.ravel(img))\n",
    "    plt.show()"
   ]
  },
  {
   "cell_type": "markdown",
   "metadata": {},
   "source": [
    "## inBreast test"
   ]
  },
  {
   "cell_type": "code",
   "execution_count": null,
   "metadata": {},
   "outputs": [],
   "source": [
    "images, patients = loader.load_inbreast()\n",
    "filter_id = 'cc9e66c5b31baab8'\n",
    "\n",
    "for pid, p in patients.items():\n",
    "    if not pid.startswith(filter_id):\n",
    "        continue\n",
    "    print(\"PatientID:\", pid, \"#images:\", len(p.image_metadata))\n",
    "    for i, img_meta in enumerate(p.image_metadata.values()):\n",
    "        print(i + 1, \"\\t\", \"Laterality:\", img_meta.laterality, \"View:\", img_meta.view, \"BiRads:\", img_meta.birads,\n",
    "              \"Cancer:\", img_meta.cancer)\n",
    "        img = imutils.load_image(img_meta.image_path)\n",
    "        img_small, img_small_gaussian = convert(img, img_meta)\n",
    "        show_img(img_small_gaussian)\n"
   ]
  },
  {
   "cell_type": "markdown",
   "metadata": {},
   "source": [
    "## bcdr test"
   ]
  },
  {
   "cell_type": "code",
   "execution_count": null,
   "metadata": {},
   "outputs": [],
   "source": [
    "images, patients = loader.load_bcdr('BCDR-D01')  # 'BCDR-D02', 'BCDR-DN01'\n",
    "filter_id = 3\n",
    "\n",
    "for pid, p in patients.items():\n",
    "    if pid != filter_id:\n",
    "        continue\n",
    "    print(\"PatientID:\", pid, \"#images:\", len(p.image_metadata))\n",
    "    for i, img_meta in enumerate(p.image_metadata.values()):\n",
    "        print(i + 1, \"\\t\", \"Laterality:\", img_meta.laterality, \"View:\", img_meta.view, \"Age:\", img_meta.age, \"Cancer:\",\n",
    "              img_meta.cancer)\n",
    "        img = imutils.load_image(img_meta.image_path)\n",
    "        img_small, img_small_gaussian = convert(img, img_meta)\n",
    "        show_img(img_small_gaussian)\n"
   ]
  },
  {
   "cell_type": "markdown",
   "metadata": {},
   "source": [
    "## Dataset summary stats"
   ]
  },
  {
   "cell_type": "code",
   "execution_count": null,
   "metadata": {},
   "outputs": [],
   "source": [
    "def print_info(patients):\n",
    "    print(\"Patients:\", len(patients))\n",
    "    print(\"Images:\", sum([len(p.image_metadata.values()) for p in patients.values()]))\n",
    "\n",
    "    def f(p):\n",
    "        return [1 if i.cancer else 0 for i in p.image_metadata.values()]\n",
    "\n",
    "    cancer = [sum(f(p)) for p in patients.values()]\n",
    "    print(\"Cancer:\", sum(cancer))\n"
   ]
  },
  {
   "cell_type": "code",
   "execution_count": null,
   "metadata": {},
   "outputs": [],
   "source": [
    "print(\"Inbreast\")\n",
    "_, patients_inb = loader.load_inbreast()\n",
    "print_info(patients_inb)\n",
    "print()\n",
    "\n",
    "print(\"BCDR-D01\")\n",
    "_, patients_d01 = loader.load_bcdr('BCDR-D01')\n",
    "print_info(patients_d01)\n",
    "print()\n",
    "\n",
    "print(\"BCDR-D02\")\n",
    "_, patients_d02 = loader.load_bcdr('BCDR-D02')\n",
    "print_info(patients_d02)\n",
    "print()\n",
    "\n",
    "print(\"BCDR-DN01\")\n",
    "_, patients_dn01 = loader.load_bcdr('BCDR-DN01')\n",
    "print_info(patients_dn01)\n",
    "print()\n",
    "\n",
    "size = (800, 800)\n",
    "print(\"Gigabytes for all images in total with size {}: {}\".format(\n",
    "    size, (410 + 260 + 704 + 200) * (size[0] * size[1]) * 8 / 1024**3))\n"
   ]
  },
  {
   "cell_type": "markdown",
   "metadata": {},
   "source": [
    "## Convert datasets to trainable CycleGan Images"
   ]
  },
  {
   "cell_type": "markdown",
   "metadata": {},
   "source": [
    "* Add labels to BCDR images\n",
    "* Method to filter out CC view and resize and split according to label bcdr\n",
    "* Add labels to inBreast images\n",
    "* Method to filter out CC view and resize and split according to label inBreast\n",
    "* Merge them and copy the images to 2 folders based on label"
   ]
  },
  {
   "cell_type": "code",
   "execution_count": null,
   "metadata": {},
   "outputs": [],
   "source": [
    "def filter_view(images):\n",
    "    res_healthy = []\n",
    "    res_cancer = []\n",
    "    for i, image in images.items():\n",
    "        if image.view == 'CC':\n",
    "            if image.cancer:\n",
    "                res_cancer.append(image)\n",
    "            else:\n",
    "                res_healthy.append(image)\n",
    "    return res_healthy, res_cancer\n",
    "\n",
    "\n",
    "print(\"Inbreast\")\n",
    "images_inb, _ = loader.load_inbreast()\n",
    "inb_healthy, inb_cancer = filter_view(images_inb)\n",
    "print(\"Healthy:\", len(inb_healthy), \"Cancer:\", len(inb_cancer))\n",
    "print()\n",
    "\n",
    "print(\"BCDR-D01\")\n",
    "images_d01, _ = loader.load_bcdr('BCDR-D01')\n",
    "d01_healthy, d01_cancer = filter_view(images_d01)\n",
    "print(\"Healthy:\", len(d01_healthy), \"Cancer:\", len(d01_cancer))\n",
    "print()\n",
    "\n",
    "print(\"BCDR-D02\")\n",
    "images_d02, _ = loader.load_bcdr('BCDR-D02')\n",
    "d02_healthy, d02_cancer = filter_view(images_d02)\n",
    "print(\"Healthy:\", len(d02_healthy), \"Cancer:\", len(d02_cancer))\n",
    "print()\n",
    "\n",
    "print(\"Overall\")\n",
    "healthy = inb_healthy + d01_healthy + d02_healthy\n",
    "cancer = inb_cancer + d01_cancer + d02_cancer\n",
    "print(\"Healthy:\", len(healthy), \"Cancer:\", len(cancer))\n",
    "\n",
    "from multiprocessing import Pool as ThreadPool\n",
    "import imgaug\n",
    "from imgaug import augmenters as iaa\n",
    "from imgaug import parameters as iap\n",
    "from itertools import repeat\n",
    "\n",
    "SEED = 42\n",
    "\n",
    "imgaug.seed(SEED)\n",
    "aug = iaa.Sequential([\n",
    "    iaa.Affine(rotate=(-4, 4)),\n",
    "    iaa.Affine(scale={\n",
    "        \"x\": (0.98, 1.13),\n",
    "        \"y\": (0.98, 1.13)\n",
    "    }),\n",
    "    iaa.ContrastNormalization((0.08, 1.2), per_channel=False)\n",
    "])\n",
    "\n",
    "\n",
    "def transform_img(img, img_meta, augment=False):\n",
    "    img = imutils.standardize(img, img_meta)\n",
    "    img = imutils.downsample(img)\n",
    "\n",
    "    if augment:\n",
    "        img = imutils.normalize_gaussian(img)\n",
    "        img = imutils.normalize(img, new_min=0, new_max=255)\n",
    "        img = aug.augment_image(img)\n",
    "\n",
    "    img = imutils.normalize_gaussian(img)\n",
    "    img = imutils.normalize(img, new_min=-1, new_max=1)\n",
    "    return img\n",
    "\n",
    "\n",
    "def f(inp):\n",
    "    lst, folder, run_id, augment = inp\n",
    "    imgaug.seed(SEED * run_id)\n",
    "    for i, img_meta in lst:\n",
    "        try:\n",
    "            img = imutils.load_image(img_meta.image_path)\n",
    "        except:\n",
    "            print(\"Failed to load image\", img_meta.image_path)\n",
    "            continue\n",
    "        img = transform_img(img, img_meta, augment=augment)\n",
    "        fname = \"{:02}_{:03}.dat\".format(run_id, i)\n",
    "        img.tofile(os.path.join(folder, fname))\n",
    "\n",
    "\n",
    "def transform(lst, folder, run_id, augment):\n",
    "    THREADS = 8\n",
    "    batch_size = len(lst) // THREADS + 1\n",
    "    lst = list(enumerate(lst))\n",
    "    lst = [lst[i:i + batch_size] for i in range(0, len(lst), batch_size)]\n",
    "    lst = list(zip(lst, repeat(folder), repeat(run_id), repeat(augment)))\n",
    "    print(\"Transforming ({})\".format(run_id))\n",
    "    pool = ThreadPool(THREADS)\n",
    "    results = pool.map(f, lst)\n",
    "    print(\"Transformed ({})\".format(run_id))\n",
    "\n",
    "\n",
    "transformed = os.path.join(breast_prefix, \"small_all_256x256\")\n",
    "cancer_folder = os.path.join(transformed, \"cancer\")\n",
    "healthy_folder = os.path.join(transformed, \"healthy\")\n",
    "if not os.path.exists(healthy_folder):\n",
    "    os.makedirs(healthy_folder)\n",
    "if not os.path.exists(cancer_folder):\n",
    "    os.makedirs(cancer_folder)\n",
    "\n",
    "for run_id in range(10):\n",
    "    transform(cancer, cancer_folder, run_id, run_id != 0)\n",
    "\n",
    "for run_id in range(10):\n",
    "    transform(healthy, healthy_folder, run_id, run_id != 0)\n"
   ]
  },
  {
   "cell_type": "code",
   "execution_count": null,
   "metadata": {},
   "outputs": [],
   "source": [
    "import matplotlib.pyplot as plt\n",
    "a = np.fromfile(healthy_folder + '/00_001.dat')\n",
    "a = np.reshape(a, (256, 256))\n",
    "show_img(a)"
   ]
  },
  {
   "cell_type": "markdown",
   "metadata": {},
   "source": [
    "## Synthetic data"
   ]
  },
  {
   "cell_type": "code",
   "execution_count": null,
   "metadata": {},
   "outputs": [],
   "source": [
    "data_gen = synth_data.generate_synth(size=(256, 256), max_thresh=2.5)\n",
    "for i in range(5):\n",
    "    img, mask, img_meta = next(data_gen)\n",
    "    # Go from img to img+mask in the GAN\n",
    "    show_img(img + mask)\n",
    "    show_img(mask)"
   ]
  }
 ],
 "metadata": {
  "kernelspec": {
   "display_name": "Python 3",
   "language": "python",
   "name": "python3"
  }
 },
 "nbformat": 4,
 "nbformat_minor": 0
}
